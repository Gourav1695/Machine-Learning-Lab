{
  "cells": [
    {
      "cell_type": "markdown",
      "source": [
        "#Name : Gourav Kumar Shaw\n",
        "#Enrollment No. : 2020CSB010\n",
        "#Subject : Machine Learning Lab\n"
      ],
      "metadata": {
        "id": "kmUtlXtkg_ac"
      }
    },
    {
      "cell_type": "markdown",
      "metadata": {
        "id": "1PdKMGCGc4Xm"
      },
      "source": [
        "# Assignment No. 1\n"
      ]
    },
    {
      "cell_type": "markdown",
      "metadata": {
        "id": "qLxeNw_Pc4Xp"
      },
      "source": [
        "## Question 1\n",
        "\n",
        "Download [House Prices Data Set](https://www.kaggle.com/competitions/house-prices-advanced-regression-techniques/data) (already in the needed format). The data set\n",
        "is used to predict house prices. Analyze the columns of the dataset.\n",
        "Upload the Dataset in the “ML_DRIVE/Assign_1” folder, if executing\n",
        "through COLAB. Access the dataset from there.\n",
        "\n"
      ]
    },
    {
      "cell_type": "markdown",
      "metadata": {
        "id": "CLGQiAWdc4Xr"
      },
      "source": [
        "## Question 2\n",
        "\n",
        "Read the dataset in the Pandas data frame. Remove the rows with a missing\n",
        "value. Divide the training.csv into two sets of ratio 80:20 entitled to train and\n",
        "test set respectively.\n"
      ]
    },
    {
      "cell_type": "code",
      "execution_count": 1,
      "metadata": {
        "colab": {
          "base_uri": "https://localhost:8080/"
        },
        "id": "D0VDSXBKc4Xr",
        "outputId": "eb43586d-e705-4be6-b9da-be23db333afc"
      },
      "outputs": [
        {
          "output_type": "stream",
          "name": "stdout",
          "text": [
            "Requirement already satisfied: pandas in /usr/local/lib/python3.10/dist-packages (1.5.3)\n",
            "Requirement already satisfied: python-dateutil>=2.8.1 in /usr/local/lib/python3.10/dist-packages (from pandas) (2.8.2)\n",
            "Requirement already satisfied: pytz>=2020.1 in /usr/local/lib/python3.10/dist-packages (from pandas) (2022.7.1)\n",
            "Requirement already satisfied: numpy>=1.21.0 in /usr/local/lib/python3.10/dist-packages (from pandas) (1.22.4)\n",
            "Requirement already satisfied: six>=1.5 in /usr/local/lib/python3.10/dist-packages (from python-dateutil>=2.8.1->pandas) (1.16.0)\n"
          ]
        }
      ],
      "source": [
        "! pip install pandas\n"
      ]
    },
    {
      "cell_type": "code",
      "execution_count": 8,
      "metadata": {
        "colab": {
          "base_uri": "https://localhost:8080/",
          "height": 488
        },
        "id": "wokRu4YPc4Xv",
        "outputId": "a8fd5f6e-8ad9-496a-f0bc-698065e399f9"
      },
      "outputs": [
        {
          "output_type": "execute_result",
          "data": {
            "text/plain": [
              "        Id  MSSubClass MSZoning  LotFrontage  LotArea Street Alley LotShape  \\\n",
              "0        1          60       RL         65.0     8450   Pave   NaN      Reg   \n",
              "1        2          20       RL         80.0     9600   Pave   NaN      Reg   \n",
              "2        3          60       RL         68.0    11250   Pave   NaN      IR1   \n",
              "3        4          70       RL         60.0     9550   Pave   NaN      IR1   \n",
              "4        5          60       RL         84.0    14260   Pave   NaN      IR1   \n",
              "...    ...         ...      ...          ...      ...    ...   ...      ...   \n",
              "1455  1456          60       RL         62.0     7917   Pave   NaN      Reg   \n",
              "1456  1457          20       RL         85.0    13175   Pave   NaN      Reg   \n",
              "1457  1458          70       RL         66.0     9042   Pave   NaN      Reg   \n",
              "1458  1459          20       RL         68.0     9717   Pave   NaN      Reg   \n",
              "1459  1460          20       RL         75.0     9937   Pave   NaN      Reg   \n",
              "\n",
              "     LandContour Utilities  ... PoolArea PoolQC  Fence MiscFeature MiscVal  \\\n",
              "0            Lvl    AllPub  ...        0    NaN    NaN         NaN       0   \n",
              "1            Lvl    AllPub  ...        0    NaN    NaN         NaN       0   \n",
              "2            Lvl    AllPub  ...        0    NaN    NaN         NaN       0   \n",
              "3            Lvl    AllPub  ...        0    NaN    NaN         NaN       0   \n",
              "4            Lvl    AllPub  ...        0    NaN    NaN         NaN       0   \n",
              "...          ...       ...  ...      ...    ...    ...         ...     ...   \n",
              "1455         Lvl    AllPub  ...        0    NaN    NaN         NaN       0   \n",
              "1456         Lvl    AllPub  ...        0    NaN  MnPrv         NaN       0   \n",
              "1457         Lvl    AllPub  ...        0    NaN  GdPrv        Shed    2500   \n",
              "1458         Lvl    AllPub  ...        0    NaN    NaN         NaN       0   \n",
              "1459         Lvl    AllPub  ...        0    NaN    NaN         NaN       0   \n",
              "\n",
              "     MoSold YrSold  SaleType  SaleCondition  SalePrice  \n",
              "0         2   2008        WD         Normal     208500  \n",
              "1         5   2007        WD         Normal     181500  \n",
              "2         9   2008        WD         Normal     223500  \n",
              "3         2   2006        WD        Abnorml     140000  \n",
              "4        12   2008        WD         Normal     250000  \n",
              "...     ...    ...       ...            ...        ...  \n",
              "1455      8   2007        WD         Normal     175000  \n",
              "1456      2   2010        WD         Normal     210000  \n",
              "1457      5   2010        WD         Normal     266500  \n",
              "1458      4   2010        WD         Normal     142125  \n",
              "1459      6   2008        WD         Normal     147500  \n",
              "\n",
              "[1460 rows x 81 columns]"
            ],
            "text/html": [
              "\n",
              "\n",
              "  <div id=\"df-ec6b8f07-0b2c-43f6-9dbb-820b1516eeca\">\n",
              "    <div class=\"colab-df-container\">\n",
              "      <div>\n",
              "<style scoped>\n",
              "    .dataframe tbody tr th:only-of-type {\n",
              "        vertical-align: middle;\n",
              "    }\n",
              "\n",
              "    .dataframe tbody tr th {\n",
              "        vertical-align: top;\n",
              "    }\n",
              "\n",
              "    .dataframe thead th {\n",
              "        text-align: right;\n",
              "    }\n",
              "</style>\n",
              "<table border=\"1\" class=\"dataframe\">\n",
              "  <thead>\n",
              "    <tr style=\"text-align: right;\">\n",
              "      <th></th>\n",
              "      <th>Id</th>\n",
              "      <th>MSSubClass</th>\n",
              "      <th>MSZoning</th>\n",
              "      <th>LotFrontage</th>\n",
              "      <th>LotArea</th>\n",
              "      <th>Street</th>\n",
              "      <th>Alley</th>\n",
              "      <th>LotShape</th>\n",
              "      <th>LandContour</th>\n",
              "      <th>Utilities</th>\n",
              "      <th>...</th>\n",
              "      <th>PoolArea</th>\n",
              "      <th>PoolQC</th>\n",
              "      <th>Fence</th>\n",
              "      <th>MiscFeature</th>\n",
              "      <th>MiscVal</th>\n",
              "      <th>MoSold</th>\n",
              "      <th>YrSold</th>\n",
              "      <th>SaleType</th>\n",
              "      <th>SaleCondition</th>\n",
              "      <th>SalePrice</th>\n",
              "    </tr>\n",
              "  </thead>\n",
              "  <tbody>\n",
              "    <tr>\n",
              "      <th>0</th>\n",
              "      <td>1</td>\n",
              "      <td>60</td>\n",
              "      <td>RL</td>\n",
              "      <td>65.0</td>\n",
              "      <td>8450</td>\n",
              "      <td>Pave</td>\n",
              "      <td>NaN</td>\n",
              "      <td>Reg</td>\n",
              "      <td>Lvl</td>\n",
              "      <td>AllPub</td>\n",
              "      <td>...</td>\n",
              "      <td>0</td>\n",
              "      <td>NaN</td>\n",
              "      <td>NaN</td>\n",
              "      <td>NaN</td>\n",
              "      <td>0</td>\n",
              "      <td>2</td>\n",
              "      <td>2008</td>\n",
              "      <td>WD</td>\n",
              "      <td>Normal</td>\n",
              "      <td>208500</td>\n",
              "    </tr>\n",
              "    <tr>\n",
              "      <th>1</th>\n",
              "      <td>2</td>\n",
              "      <td>20</td>\n",
              "      <td>RL</td>\n",
              "      <td>80.0</td>\n",
              "      <td>9600</td>\n",
              "      <td>Pave</td>\n",
              "      <td>NaN</td>\n",
              "      <td>Reg</td>\n",
              "      <td>Lvl</td>\n",
              "      <td>AllPub</td>\n",
              "      <td>...</td>\n",
              "      <td>0</td>\n",
              "      <td>NaN</td>\n",
              "      <td>NaN</td>\n",
              "      <td>NaN</td>\n",
              "      <td>0</td>\n",
              "      <td>5</td>\n",
              "      <td>2007</td>\n",
              "      <td>WD</td>\n",
              "      <td>Normal</td>\n",
              "      <td>181500</td>\n",
              "    </tr>\n",
              "    <tr>\n",
              "      <th>2</th>\n",
              "      <td>3</td>\n",
              "      <td>60</td>\n",
              "      <td>RL</td>\n",
              "      <td>68.0</td>\n",
              "      <td>11250</td>\n",
              "      <td>Pave</td>\n",
              "      <td>NaN</td>\n",
              "      <td>IR1</td>\n",
              "      <td>Lvl</td>\n",
              "      <td>AllPub</td>\n",
              "      <td>...</td>\n",
              "      <td>0</td>\n",
              "      <td>NaN</td>\n",
              "      <td>NaN</td>\n",
              "      <td>NaN</td>\n",
              "      <td>0</td>\n",
              "      <td>9</td>\n",
              "      <td>2008</td>\n",
              "      <td>WD</td>\n",
              "      <td>Normal</td>\n",
              "      <td>223500</td>\n",
              "    </tr>\n",
              "    <tr>\n",
              "      <th>3</th>\n",
              "      <td>4</td>\n",
              "      <td>70</td>\n",
              "      <td>RL</td>\n",
              "      <td>60.0</td>\n",
              "      <td>9550</td>\n",
              "      <td>Pave</td>\n",
              "      <td>NaN</td>\n",
              "      <td>IR1</td>\n",
              "      <td>Lvl</td>\n",
              "      <td>AllPub</td>\n",
              "      <td>...</td>\n",
              "      <td>0</td>\n",
              "      <td>NaN</td>\n",
              "      <td>NaN</td>\n",
              "      <td>NaN</td>\n",
              "      <td>0</td>\n",
              "      <td>2</td>\n",
              "      <td>2006</td>\n",
              "      <td>WD</td>\n",
              "      <td>Abnorml</td>\n",
              "      <td>140000</td>\n",
              "    </tr>\n",
              "    <tr>\n",
              "      <th>4</th>\n",
              "      <td>5</td>\n",
              "      <td>60</td>\n",
              "      <td>RL</td>\n",
              "      <td>84.0</td>\n",
              "      <td>14260</td>\n",
              "      <td>Pave</td>\n",
              "      <td>NaN</td>\n",
              "      <td>IR1</td>\n",
              "      <td>Lvl</td>\n",
              "      <td>AllPub</td>\n",
              "      <td>...</td>\n",
              "      <td>0</td>\n",
              "      <td>NaN</td>\n",
              "      <td>NaN</td>\n",
              "      <td>NaN</td>\n",
              "      <td>0</td>\n",
              "      <td>12</td>\n",
              "      <td>2008</td>\n",
              "      <td>WD</td>\n",
              "      <td>Normal</td>\n",
              "      <td>250000</td>\n",
              "    </tr>\n",
              "    <tr>\n",
              "      <th>...</th>\n",
              "      <td>...</td>\n",
              "      <td>...</td>\n",
              "      <td>...</td>\n",
              "      <td>...</td>\n",
              "      <td>...</td>\n",
              "      <td>...</td>\n",
              "      <td>...</td>\n",
              "      <td>...</td>\n",
              "      <td>...</td>\n",
              "      <td>...</td>\n",
              "      <td>...</td>\n",
              "      <td>...</td>\n",
              "      <td>...</td>\n",
              "      <td>...</td>\n",
              "      <td>...</td>\n",
              "      <td>...</td>\n",
              "      <td>...</td>\n",
              "      <td>...</td>\n",
              "      <td>...</td>\n",
              "      <td>...</td>\n",
              "      <td>...</td>\n",
              "    </tr>\n",
              "    <tr>\n",
              "      <th>1455</th>\n",
              "      <td>1456</td>\n",
              "      <td>60</td>\n",
              "      <td>RL</td>\n",
              "      <td>62.0</td>\n",
              "      <td>7917</td>\n",
              "      <td>Pave</td>\n",
              "      <td>NaN</td>\n",
              "      <td>Reg</td>\n",
              "      <td>Lvl</td>\n",
              "      <td>AllPub</td>\n",
              "      <td>...</td>\n",
              "      <td>0</td>\n",
              "      <td>NaN</td>\n",
              "      <td>NaN</td>\n",
              "      <td>NaN</td>\n",
              "      <td>0</td>\n",
              "      <td>8</td>\n",
              "      <td>2007</td>\n",
              "      <td>WD</td>\n",
              "      <td>Normal</td>\n",
              "      <td>175000</td>\n",
              "    </tr>\n",
              "    <tr>\n",
              "      <th>1456</th>\n",
              "      <td>1457</td>\n",
              "      <td>20</td>\n",
              "      <td>RL</td>\n",
              "      <td>85.0</td>\n",
              "      <td>13175</td>\n",
              "      <td>Pave</td>\n",
              "      <td>NaN</td>\n",
              "      <td>Reg</td>\n",
              "      <td>Lvl</td>\n",
              "      <td>AllPub</td>\n",
              "      <td>...</td>\n",
              "      <td>0</td>\n",
              "      <td>NaN</td>\n",
              "      <td>MnPrv</td>\n",
              "      <td>NaN</td>\n",
              "      <td>0</td>\n",
              "      <td>2</td>\n",
              "      <td>2010</td>\n",
              "      <td>WD</td>\n",
              "      <td>Normal</td>\n",
              "      <td>210000</td>\n",
              "    </tr>\n",
              "    <tr>\n",
              "      <th>1457</th>\n",
              "      <td>1458</td>\n",
              "      <td>70</td>\n",
              "      <td>RL</td>\n",
              "      <td>66.0</td>\n",
              "      <td>9042</td>\n",
              "      <td>Pave</td>\n",
              "      <td>NaN</td>\n",
              "      <td>Reg</td>\n",
              "      <td>Lvl</td>\n",
              "      <td>AllPub</td>\n",
              "      <td>...</td>\n",
              "      <td>0</td>\n",
              "      <td>NaN</td>\n",
              "      <td>GdPrv</td>\n",
              "      <td>Shed</td>\n",
              "      <td>2500</td>\n",
              "      <td>5</td>\n",
              "      <td>2010</td>\n",
              "      <td>WD</td>\n",
              "      <td>Normal</td>\n",
              "      <td>266500</td>\n",
              "    </tr>\n",
              "    <tr>\n",
              "      <th>1458</th>\n",
              "      <td>1459</td>\n",
              "      <td>20</td>\n",
              "      <td>RL</td>\n",
              "      <td>68.0</td>\n",
              "      <td>9717</td>\n",
              "      <td>Pave</td>\n",
              "      <td>NaN</td>\n",
              "      <td>Reg</td>\n",
              "      <td>Lvl</td>\n",
              "      <td>AllPub</td>\n",
              "      <td>...</td>\n",
              "      <td>0</td>\n",
              "      <td>NaN</td>\n",
              "      <td>NaN</td>\n",
              "      <td>NaN</td>\n",
              "      <td>0</td>\n",
              "      <td>4</td>\n",
              "      <td>2010</td>\n",
              "      <td>WD</td>\n",
              "      <td>Normal</td>\n",
              "      <td>142125</td>\n",
              "    </tr>\n",
              "    <tr>\n",
              "      <th>1459</th>\n",
              "      <td>1460</td>\n",
              "      <td>20</td>\n",
              "      <td>RL</td>\n",
              "      <td>75.0</td>\n",
              "      <td>9937</td>\n",
              "      <td>Pave</td>\n",
              "      <td>NaN</td>\n",
              "      <td>Reg</td>\n",
              "      <td>Lvl</td>\n",
              "      <td>AllPub</td>\n",
              "      <td>...</td>\n",
              "      <td>0</td>\n",
              "      <td>NaN</td>\n",
              "      <td>NaN</td>\n",
              "      <td>NaN</td>\n",
              "      <td>0</td>\n",
              "      <td>6</td>\n",
              "      <td>2008</td>\n",
              "      <td>WD</td>\n",
              "      <td>Normal</td>\n",
              "      <td>147500</td>\n",
              "    </tr>\n",
              "  </tbody>\n",
              "</table>\n",
              "<p>1460 rows × 81 columns</p>\n",
              "</div>\n",
              "      <button class=\"colab-df-convert\" onclick=\"convertToInteractive('df-ec6b8f07-0b2c-43f6-9dbb-820b1516eeca')\"\n",
              "              title=\"Convert this dataframe to an interactive table.\"\n",
              "              style=\"display:none;\">\n",
              "\n",
              "  <svg xmlns=\"http://www.w3.org/2000/svg\" height=\"24px\"viewBox=\"0 0 24 24\"\n",
              "       width=\"24px\">\n",
              "    <path d=\"M0 0h24v24H0V0z\" fill=\"none\"/>\n",
              "    <path d=\"M18.56 5.44l.94 2.06.94-2.06 2.06-.94-2.06-.94-.94-2.06-.94 2.06-2.06.94zm-11 1L8.5 8.5l.94-2.06 2.06-.94-2.06-.94L8.5 2.5l-.94 2.06-2.06.94zm10 10l.94 2.06.94-2.06 2.06-.94-2.06-.94-.94-2.06-.94 2.06-2.06.94z\"/><path d=\"M17.41 7.96l-1.37-1.37c-.4-.4-.92-.59-1.43-.59-.52 0-1.04.2-1.43.59L10.3 9.45l-7.72 7.72c-.78.78-.78 2.05 0 2.83L4 21.41c.39.39.9.59 1.41.59.51 0 1.02-.2 1.41-.59l7.78-7.78 2.81-2.81c.8-.78.8-2.07 0-2.86zM5.41 20L4 18.59l7.72-7.72 1.47 1.35L5.41 20z\"/>\n",
              "  </svg>\n",
              "      </button>\n",
              "\n",
              "\n",
              "\n",
              "    <div id=\"df-52d7e305-2e33-4d59-a005-c7f13078d574\">\n",
              "      <button class=\"colab-df-quickchart\" onclick=\"quickchart('df-52d7e305-2e33-4d59-a005-c7f13078d574')\"\n",
              "              title=\"Suggest charts.\"\n",
              "              style=\"display:none;\">\n",
              "\n",
              "<svg xmlns=\"http://www.w3.org/2000/svg\" height=\"24px\"viewBox=\"0 0 24 24\"\n",
              "     width=\"24px\">\n",
              "    <g>\n",
              "        <path d=\"M19 3H5c-1.1 0-2 .9-2 2v14c0 1.1.9 2 2 2h14c1.1 0 2-.9 2-2V5c0-1.1-.9-2-2-2zM9 17H7v-7h2v7zm4 0h-2V7h2v10zm4 0h-2v-4h2v4z\"/>\n",
              "    </g>\n",
              "</svg>\n",
              "      </button>\n",
              "    </div>\n",
              "\n",
              "<style>\n",
              "  .colab-df-quickchart {\n",
              "    background-color: #E8F0FE;\n",
              "    border: none;\n",
              "    border-radius: 50%;\n",
              "    cursor: pointer;\n",
              "    display: none;\n",
              "    fill: #1967D2;\n",
              "    height: 32px;\n",
              "    padding: 0 0 0 0;\n",
              "    width: 32px;\n",
              "  }\n",
              "\n",
              "  .colab-df-quickchart:hover {\n",
              "    background-color: #E2EBFA;\n",
              "    box-shadow: 0px 1px 2px rgba(60, 64, 67, 0.3), 0px 1px 3px 1px rgba(60, 64, 67, 0.15);\n",
              "    fill: #174EA6;\n",
              "  }\n",
              "\n",
              "  [theme=dark] .colab-df-quickchart {\n",
              "    background-color: #3B4455;\n",
              "    fill: #D2E3FC;\n",
              "  }\n",
              "\n",
              "  [theme=dark] .colab-df-quickchart:hover {\n",
              "    background-color: #434B5C;\n",
              "    box-shadow: 0px 1px 3px 1px rgba(0, 0, 0, 0.15);\n",
              "    filter: drop-shadow(0px 1px 2px rgba(0, 0, 0, 0.3));\n",
              "    fill: #FFFFFF;\n",
              "  }\n",
              "</style>\n",
              "\n",
              "    <script>\n",
              "      async function quickchart(key) {\n",
              "        const containerElement = document.querySelector('#' + key);\n",
              "        const charts = await google.colab.kernel.invokeFunction(\n",
              "            'suggestCharts', [key], {});\n",
              "      }\n",
              "    </script>\n",
              "\n",
              "      <script>\n",
              "\n",
              "function displayQuickchartButton(domScope) {\n",
              "  let quickchartButtonEl =\n",
              "    domScope.querySelector('#df-52d7e305-2e33-4d59-a005-c7f13078d574 button.colab-df-quickchart');\n",
              "  quickchartButtonEl.style.display =\n",
              "    google.colab.kernel.accessAllowed ? 'block' : 'none';\n",
              "}\n",
              "\n",
              "        displayQuickchartButton(document);\n",
              "      </script>\n",
              "      <style>\n",
              "    .colab-df-container {\n",
              "      display:flex;\n",
              "      flex-wrap:wrap;\n",
              "      gap: 12px;\n",
              "    }\n",
              "\n",
              "    .colab-df-convert {\n",
              "      background-color: #E8F0FE;\n",
              "      border: none;\n",
              "      border-radius: 50%;\n",
              "      cursor: pointer;\n",
              "      display: none;\n",
              "      fill: #1967D2;\n",
              "      height: 32px;\n",
              "      padding: 0 0 0 0;\n",
              "      width: 32px;\n",
              "    }\n",
              "\n",
              "    .colab-df-convert:hover {\n",
              "      background-color: #E2EBFA;\n",
              "      box-shadow: 0px 1px 2px rgba(60, 64, 67, 0.3), 0px 1px 3px 1px rgba(60, 64, 67, 0.15);\n",
              "      fill: #174EA6;\n",
              "    }\n",
              "\n",
              "    [theme=dark] .colab-df-convert {\n",
              "      background-color: #3B4455;\n",
              "      fill: #D2E3FC;\n",
              "    }\n",
              "\n",
              "    [theme=dark] .colab-df-convert:hover {\n",
              "      background-color: #434B5C;\n",
              "      box-shadow: 0px 1px 3px 1px rgba(0, 0, 0, 0.15);\n",
              "      filter: drop-shadow(0px 1px 2px rgba(0, 0, 0, 0.3));\n",
              "      fill: #FFFFFF;\n",
              "    }\n",
              "  </style>\n",
              "\n",
              "      <script>\n",
              "        const buttonEl =\n",
              "          document.querySelector('#df-ec6b8f07-0b2c-43f6-9dbb-820b1516eeca button.colab-df-convert');\n",
              "        buttonEl.style.display =\n",
              "          google.colab.kernel.accessAllowed ? 'block' : 'none';\n",
              "\n",
              "        async function convertToInteractive(key) {\n",
              "          const element = document.querySelector('#df-ec6b8f07-0b2c-43f6-9dbb-820b1516eeca');\n",
              "          const dataTable =\n",
              "            await google.colab.kernel.invokeFunction('convertToInteractive',\n",
              "                                                     [key], {});\n",
              "          if (!dataTable) return;\n",
              "\n",
              "          const docLinkHtml = 'Like what you see? Visit the ' +\n",
              "            '<a target=\"_blank\" href=https://colab.research.google.com/notebooks/data_table.ipynb>data table notebook</a>'\n",
              "            + ' to learn more about interactive tables.';\n",
              "          element.innerHTML = '';\n",
              "          dataTable['output_type'] = 'display_data';\n",
              "          await google.colab.output.renderOutput(dataTable, element);\n",
              "          const docLink = document.createElement('div');\n",
              "          docLink.innerHTML = docLinkHtml;\n",
              "          element.appendChild(docLink);\n",
              "        }\n",
              "      </script>\n",
              "    </div>\n",
              "  </div>\n"
            ]
          },
          "metadata": {},
          "execution_count": 8
        }
      ],
      "source": [
        "import pandas as pd\n",
        "\n",
        "TRAIN_DATASET_FILE_PATH = \"/content/drive/MyDrive/ML_DRIVE/Assign_1/train.csv\"\n",
        "\n",
        "house_prices_df = pd.read_csv(filepath_or_buffer=TRAIN_DATASET_FILE_PATH)\n",
        "\n",
        "house_prices_df\n"
      ]
    },
    {
      "cell_type": "code",
      "source": [
        "from google.colab import drive\n",
        "drive.mount('/content/drive')"
      ],
      "metadata": {
        "colab": {
          "base_uri": "https://localhost:8080/"
        },
        "id": "e4dEZ3oedK91",
        "outputId": "4c3f8a9f-bc85-461e-b23b-9d77564e9ad2"
      },
      "execution_count": 6,
      "outputs": [
        {
          "output_type": "stream",
          "name": "stdout",
          "text": [
            "Drive already mounted at /content/drive; to attempt to forcibly remount, call drive.mount(\"/content/drive\", force_remount=True).\n"
          ]
        }
      ]
    },
    {
      "cell_type": "markdown",
      "metadata": {
        "id": "y3QaqYsNc4Xw"
      },
      "source": [
        "Hence the dataset has has 81 Columns\n"
      ]
    },
    {
      "cell_type": "code",
      "execution_count": 7,
      "metadata": {
        "colab": {
          "base_uri": "https://localhost:8080/"
        },
        "id": "UcMgEq5fc4Xx",
        "outputId": "4a182bc0-b10a-402d-f355-a3c562a9b71c"
      },
      "outputs": [
        {
          "output_type": "stream",
          "name": "stdout",
          "text": [
            "Requirement already satisfied: scikit-learn in /usr/local/lib/python3.10/dist-packages (1.2.2)\n",
            "Requirement already satisfied: numpy>=1.17.3 in /usr/local/lib/python3.10/dist-packages (from scikit-learn) (1.22.4)\n",
            "Requirement already satisfied: scipy>=1.3.2 in /usr/local/lib/python3.10/dist-packages (from scikit-learn) (1.10.1)\n",
            "Requirement already satisfied: joblib>=1.1.1 in /usr/local/lib/python3.10/dist-packages (from scikit-learn) (1.3.1)\n",
            "Requirement already satisfied: threadpoolctl>=2.0.0 in /usr/local/lib/python3.10/dist-packages (from scikit-learn) (3.2.0)\n"
          ]
        }
      ],
      "source": [
        "! pip install scikit-learn\n"
      ]
    },
    {
      "cell_type": "code",
      "execution_count": 9,
      "metadata": {
        "colab": {
          "base_uri": "https://localhost:8080/"
        },
        "id": "cV9r5jOIc4Xy",
        "outputId": "6f734ab7-d2ff-4ef0-d529-3609f24a6478"
      },
      "outputs": [
        {
          "output_type": "stream",
          "name": "stdout",
          "text": [
            "SalePrice = 1.8855056546073503 * LotArea + 161555.63499195097\n",
            "Mean Square Error: 5875986786.229492\n",
            "R2 Score: 0.07885992582143386\n"
          ]
        }
      ],
      "source": [
        "from sklearn.linear_model import LinearRegression\n",
        "from sklearn.model_selection import train_test_split\n",
        "from sklearn.metrics import mean_squared_error, r2_score\n",
        "\n",
        "required_data = house_prices_df[['LotArea',\n",
        "                                 'SalePrice']].dropna()  # drop NA Values\n",
        "train_data, test_data = train_test_split(\n",
        "    required_data, test_size=0.2)  # Test Train Split\n",
        "\n",
        "X_train = train_data[['LotArea']]\n",
        "y_train = train_data['SalePrice']\n",
        "\n",
        "model = LinearRegression()\n",
        "\n",
        "model.fit(X_train, y_train)\n",
        "\n",
        "slope = model.coef_\n",
        "intercept = model.intercept_\n",
        "\n",
        "print(f'SalePrice = {slope[0]} * LotArea + {intercept}')\n",
        "\n",
        "# now checking test data performance\n",
        "X_test = test_data[['LotArea']]\n",
        "y_test = test_data['SalePrice']\n",
        "y_predict = model.predict(X_test)\n",
        "\n",
        "\n",
        "mse = mean_squared_error(y_test, y_predict)\n",
        "r2 = r2_score(y_test, y_predict)\n",
        "\n",
        "print(f\"Mean Square Error: {mse}\")\n",
        "print(f\"R2 Score: {r2}\")\n"
      ]
    },
    {
      "cell_type": "markdown",
      "metadata": {
        "id": "VQoYPScHc4Xz"
      },
      "source": [
        "## Question 4\n",
        "\n",
        "Use the multiple regression method to estimate the value of the weights/coefficients for predicting 'SalePrice' based on the following features:\n",
        " 1. Model 1: LotFrontage, LotArea\n",
        " 2. Model 2: LotFrontage, LotArea, OverallQual, OverallCond\n",
        " 3. Model 3: LotFrontage, LotArea, OverallQual, OverallCond, 1stFlrSF, GrLivArea\n",
        "\n",
        "## Question 5\n",
        "\n",
        "Calculate and compare the Mean squared Error, R2 score for each of the\n",
        "model for test and training set for the above models.\n"
      ]
    },
    {
      "cell_type": "markdown",
      "metadata": {
        "id": "5d53LlnTc4X0"
      },
      "source": [
        "### Approach\n",
        "\n",
        "As only labels to be used are getting changed, we can make a function to abstract away all the processing\n"
      ]
    },
    {
      "cell_type": "code",
      "execution_count": 22,
      "metadata": {
        "id": "2Q96bKBrc4X0"
      },
      "outputs": [],
      "source": [
        "from random import randint\n",
        "import pandas as pd\n",
        "from sklearn.linear_model import LinearRegression\n",
        "from sklearn.model_selection import train_test_split\n",
        "from sklearn.metrics import mean_squared_error, r2_score\n",
        "from sklearn.preprocessing import OneHotEncoder\n",
        "\n",
        "\n",
        "def __one_hot_encode(X: \"pd.DataFrame\", col_name: \"str\") -> \"pd.DataFrame\":\n",
        "    encoder = OneHotEncoder()\n",
        "\n",
        "    encoded_df = pd.DataFrame(\n",
        "        encoder.fit_transform(X[[col_name]]).toarray(),\n",
        "        columns=encoder.get_feature_names_out()\n",
        "    )\n",
        "\n",
        "    X = X.join(encoded_df)\n",
        "    X = X.drop(col_name, axis=1)\n",
        "\n",
        "    return X\n",
        "\n",
        "def runRegressionModel(\n",
        "    df: pd.DataFrame,\n",
        "    X_labels_numeric: \"list[str]\",\n",
        "    y_label: \"str\",\n",
        "    X_labels_categoric: \"list[str]\" = [],\n",
        "    test_frac=0.2\n",
        ") -> \"tuple[LinearRegression, int, int]\":\n",
        "    # drop NA Values\n",
        "    required_data = df[\n",
        "        [*X_labels_numeric, *X_labels_categoric, y_label]\n",
        "    ].dropna()\n",
        "\n",
        "    # get X and y\n",
        "    X = required_data[[*X_labels_numeric, *X_labels_categoric]]\n",
        "    y = required_data[[y_label]]\n",
        "\n",
        "    # convert categoric fields\n",
        "    for col_name in X_labels_categoric:\n",
        "        X = __one_hot_encode(X, col_name)\n",
        "\n",
        "    # Test Train Split\n",
        "    X_train, X_test, y_train, y_test = train_test_split(\n",
        "        X, y, test_size=test_frac, random_state=randint(0, 100)\n",
        "    )\n",
        "\n",
        "    # train model\n",
        "    model = LinearRegression().fit(X_train, y_train)\n",
        "\n",
        "    # now checking test data performance\n",
        "    y_predict = model.predict(X_test)\n",
        "\n",
        "    mse = mean_squared_error(y_test, y_predict)\n",
        "    r2 = r2_score(y_test, y_predict)\n",
        "\n",
        "    return model, mse, r2\n"
      ]
    },
    {
      "cell_type": "code",
      "execution_count": 26,
      "metadata": {
        "colab": {
          "base_uri": "https://localhost:8080/"
        },
        "id": "yN8DQvjAc4X1",
        "outputId": "78a963ee-7472-4f27-f3ae-70ae761056c1"
      },
      "outputs": [
        {
          "output_type": "stream",
          "name": "stdout",
          "text": [
            "Model 1 -> Mean Square Error: 5478941524.984227\t  R2 Score: 0.19296743424362062\n",
            "Model 2 -> Mean Square Error: 1547832573.6210933\tR2 Score: 0.7658796806061399\n",
            "Model 3 -> Mean Square Error: 2298778245.6245704\tR2 Score: 0.6954484006544865\n"
          ]
        }
      ],
      "source": [
        "model_1, model_1_mse, model_1_r2 = runRegressionModel(\n",
        "    house_prices_df,\n",
        "    ['LotArea', 'LotFrontage'],\n",
        "    'SalePrice',\n",
        "    test_frac=0.2\n",
        ")\n",
        "\n",
        "print(f\"Model 1 -> Mean Square Error: {model_1_mse}\\t  R2 Score: {model_1_r2}\")\n",
        "\n",
        "model_2, model_2_mse, model_2_r2 = runRegressionModel(\n",
        "    house_prices_df,\n",
        "    ['LotArea', 'LotFrontage', 'OverallQual', 'OverallCond'],\n",
        "    'SalePrice',\n",
        "    test_frac=0.2\n",
        ")\n",
        "\n",
        "print(f\"Model 2 -> Mean Square Error: {model_2_mse}\\tR2 Score: {model_2_r2}\")\n",
        "\n",
        "model_3, model_3_mse, model_3_r2 = runRegressionModel(\n",
        "    house_prices_df,\n",
        "    ['LotArea', 'LotFrontage', 'OverallQual',\n",
        "        'OverallCond', '1stFlrSF', 'GrLivArea'],\n",
        "    'SalePrice',\n",
        "    test_frac=0.2\n",
        ")\n",
        "\n",
        "print(f\"Model 3 -> Mean Square Error: {model_3_mse}\\tR2 Score: {model_3_r2}\")\n"
      ]
    },
    {
      "cell_type": "markdown",
      "metadata": {
        "id": "54gjPcUVc4X1"
      },
      "source": [
        "We see that Mean Squre Error decreases and R2 Score increases as we can say that as we keep adding more parameters, the model can better understand the data and hence gives better predictions."
      ]
    },
    {
      "cell_type": "markdown",
      "metadata": {
        "id": "4hpSavayc4X2"
      },
      "source": [
        "## Question 6\n",
        "\n",
        "Use the multiple regression method to estimate the value of the weights/coefficients for predicting 'SalePrice' based on the following set of mixed ( numerical and categorical) features:\n",
        "\n",
        "1.  Model 4: LotArea, Street\n",
        "2.  Model 5: LotArea, OverallCond, Street, Neighborhood\n",
        "3.  Model 6: LotArea, OverallCond, Street, 1stFlrSF, Neighborhood, Year\n"
      ]
    },
    {
      "cell_type": "code",
      "execution_count": 27,
      "metadata": {
        "colab": {
          "base_uri": "https://localhost:8080/"
        },
        "id": "NYMKSuCac4X2",
        "outputId": "579c63ba-daa1-47ee-e28f-a8a679fea7cf"
      },
      "outputs": [
        {
          "output_type": "stream",
          "name": "stdout",
          "text": [
            "Model 4 -> Mean Square Error: 5313156070.677467\tR2 Score: 0.135183458073308\n",
            "Model 5 -> Mean Square Error: 2771202366.3107142\tR2 Score: 0.5100698678489257\n",
            "Model 6 -> Mean Square Error: 1423734287.077182\tR2 Score: 0.7114343089483415\n"
          ]
        }
      ],
      "source": [
        "model_4, model_4_mse, model_4_r2 = runRegressionModel(\n",
        "    house_prices_df,\n",
        "    X_labels_numeric=['LotArea'],\n",
        "    X_labels_categoric=['Street'],\n",
        "    y_label='SalePrice',\n",
        "    test_frac=0.2\n",
        ")\n",
        "print(f\"Model 4 -> Mean Square Error: {model_4_mse}\\tR2 Score: {model_4_r2}\")\n",
        "\n",
        "model_5, model_5_mse, model_5_r2 = runRegressionModel(\n",
        "    house_prices_df,\n",
        "    X_labels_numeric=['LotArea', 'OverallCond'],\n",
        "    X_labels_categoric=['Street', 'Neighborhood'],\n",
        "    y_label='SalePrice',\n",
        "    test_frac=0.2\n",
        ")\n",
        "print(f\"Model 5 -> Mean Square Error: {model_5_mse}\\tR2 Score: {model_5_r2}\")\n",
        "\n",
        "model_6, model_6_mse, model_6_r2 = runRegressionModel(\n",
        "    house_prices_df,\n",
        "    X_labels_numeric=['LotArea', 'OverallCond',\n",
        "                      '1stFlrSF', 'YearBuilt', 'YrSold'],\n",
        "    X_labels_categoric=['Street', 'Neighborhood'],\n",
        "    y_label='SalePrice',\n",
        "    test_frac=0.2\n",
        ")\n",
        "print(f\"Model 6 -> Mean Square Error: {model_6_mse}\\tR2 Score: {model_6_r2}\")\n"
      ]
    },
    {
      "cell_type": "markdown",
      "metadata": {
        "id": "XU3f0mRmc4X3"
      },
      "source": [
        "## Question 7\n",
        "Compare the feature “LotArea” weights/coefficients for all the six trained models and plot a graph using the Matplotlib library."
      ]
    },
    {
      "cell_type": "code",
      "execution_count": 14,
      "metadata": {
        "colab": {
          "base_uri": "https://localhost:8080/"
        },
        "id": "jJ-MBRBwc4X3",
        "outputId": "93f33b3a-1d35-4b95-fd9e-5084b6634ae5"
      },
      "outputs": [
        {
          "output_type": "stream",
          "name": "stdout",
          "text": [
            "Requirement already satisfied: matplotlib in /usr/local/lib/python3.10/dist-packages (3.7.1)\n",
            "Requirement already satisfied: contourpy>=1.0.1 in /usr/local/lib/python3.10/dist-packages (from matplotlib) (1.1.0)\n",
            "Requirement already satisfied: cycler>=0.10 in /usr/local/lib/python3.10/dist-packages (from matplotlib) (0.11.0)\n",
            "Requirement already satisfied: fonttools>=4.22.0 in /usr/local/lib/python3.10/dist-packages (from matplotlib) (4.41.1)\n",
            "Requirement already satisfied: kiwisolver>=1.0.1 in /usr/local/lib/python3.10/dist-packages (from matplotlib) (1.4.4)\n",
            "Requirement already satisfied: numpy>=1.20 in /usr/local/lib/python3.10/dist-packages (from matplotlib) (1.22.4)\n",
            "Requirement already satisfied: packaging>=20.0 in /usr/local/lib/python3.10/dist-packages (from matplotlib) (23.1)\n",
            "Requirement already satisfied: pillow>=6.2.0 in /usr/local/lib/python3.10/dist-packages (from matplotlib) (9.4.0)\n",
            "Requirement already satisfied: pyparsing>=2.3.1 in /usr/local/lib/python3.10/dist-packages (from matplotlib) (3.1.0)\n",
            "Requirement already satisfied: python-dateutil>=2.7 in /usr/local/lib/python3.10/dist-packages (from matplotlib) (2.8.2)\n",
            "Requirement already satisfied: six>=1.5 in /usr/local/lib/python3.10/dist-packages (from python-dateutil>=2.7->matplotlib) (1.16.0)\n"
          ]
        }
      ],
      "source": [
        "! pip install matplotlib"
      ]
    },
    {
      "cell_type": "code",
      "execution_count": 15,
      "metadata": {
        "colab": {
          "base_uri": "https://localhost:8080/",
          "height": 472
        },
        "id": "QgBg2RjTc4X3",
        "outputId": "e76946d6-28b1-4575-81cf-da0a0b275cbf"
      },
      "outputs": [
        {
          "output_type": "display_data",
          "data": {
            "text/plain": [
              "<Figure size 640x480 with 1 Axes>"
            ],
            "image/png": "[encoded data removed]"
          },
          "metadata": {}
        }
      ],
      "source": [
        "import matplotlib.pyplot as plt\n",
        "\n",
        "x_axis = range(1, 7)\n",
        "y_axis = [model_1.coef_[0][0], model_2.coef_[0][0],\n",
        "          model_3.coef_[0][0], model_4.coef_[0][0],\n",
        "          model_5.coef_[0][0], model_6.coef_[0][0]]\n",
        "\n",
        "plt.plot(x_axis, y_axis, \"o-\")  # blue dot and line in between\n",
        "plt.ylabel(\"'LotArea' Coefficient\")\n",
        "plt.xlabel(\"Model Number\")\n",
        "plt.title(\"'LotArea' Coefficient for different models\")\n",
        "plt.show()"
      ]
    },
    {
      "cell_type": "markdown",
      "metadata": {
        "id": "FGjLU9oRc4X4"
      },
      "source": [
        "## Question 8\n",
        "Use the polynomial regression of degree (2 and 3), to estimate the value of the weights/coefficients for predicting 'SalePrice' based on 'LotArea'. Print the graph on the training and test set (Bonus)."
      ]
    },
    {
      "cell_type": "code",
      "execution_count": 28,
      "metadata": {
        "colab": {
          "base_uri": "https://localhost:8080/",
          "height": 472
        },
        "id": "qZ6vO3sJc4X4",
        "outputId": "9e531b61-d50d-481f-c95d-22cb1b9872fe"
      },
      "outputs": [
        {
          "output_type": "display_data",
          "data": {
            "text/plain": [
              "<Figure size 640x480 with 1 Axes>"
            ],
            "image/png": "[encoded data removed]"
          },
          "metadata": {}
        }
      ],
      "source": [
        "# polynomial form -> y = ax + bx^2 + cx^3 + d\n",
        "\n",
        "pd.options.mode.chained_assignment = None  # default='warn'\n",
        "\n",
        "y = house_prices_df[['SalePrice']]\n",
        "X = house_prices_df[['LotArea']]\n",
        "\n",
        "#plot actual data\n",
        "plt.plot(X['LotArea'], y, '.')\n",
        "\n",
        "x_axis = range(0, 200000, 100)\n",
        "\n",
        "linear_model = LinearRegression().fit(X, y)\n",
        "linear_model_coeff = linear_model.coef_\n",
        "linear_model_intercept = linear_model.intercept_\n",
        "curve_linear_model = [linear_model_coeff[0][0]*x  + linear_model_intercept for x in x_axis]\n",
        "plt.plot(x_axis, curve_linear_model, 'black', label='Linear')\n",
        "\n",
        "X['LotArea_square'] = house_prices_df[['LotArea']] ** 2\n",
        "square_model = LinearRegression().fit(X, y)\n",
        "square_model_coeff = square_model.coef_\n",
        "square_model_intercept = square_model.intercept_\n",
        "curve_square_model = [square_model_coeff[0][0]*x + square_model_coeff[0]\n",
        "                      [1]*(x**2) + square_model_intercept for x in x_axis]\n",
        "plt.plot(x_axis, curve_square_model, 'r', label= \"Quadratic\")\n",
        "\n",
        "X['LotArea_cubed'] = house_prices_df[['LotArea']] ** 3\n",
        "cubic_model = LinearRegression().fit(X, y)\n",
        "cubic_model_coeff = cubic_model.coef_\n",
        "cubic_model_intercept = cubic_model.intercept_\n",
        "curve_cubic_model = [cubic_model_coeff[0][0]*x + cubic_model_coeff[0][1] * \\\n",
        "                     (x**2) + cubic_model_coeff[0][2] * (x ** 3) + cubic_model_intercept for x in x_axis]\n",
        "plt.plot(x_axis, curve_cubic_model, 'g', label=\"Cubic\")\n",
        "\n",
        "\n",
        "plt.xlabel('LotArea')\n",
        "plt.ylabel('SalePrice')\n",
        "plt.title('Linear vs Quadratic vs Cubic Model')\n",
        "plt.legend()\n",
        "\n",
        "plt.show()\n"
      ]
    },
    {
      "cell_type": "code",
      "source": [],
      "metadata": {
        "id": "oYnuQ0AOew2l"
      },
      "execution_count": null,
      "outputs": []
    }
  ],
  "metadata": {
    "kernelspec": {
      "display_name": "Python 3.10.5 64-bit (windows store)",
      "language": "python",
      "name": "python3"
    },
    "language_info": {
      "codemirror_mode": {
        "name": "ipython",
        "version": 3
      },
      "file_extension": ".py",
      "mimetype": "text/x-python",
      "name": "python",
      "nbconvert_exporter": "python",
      "pygments_lexer": "ipython3",
      "version": "3.10.6"
    },
    "orig_nbformat": 4,
    "vscode": {
      "interpreter": {
        "hash": "0518a23b565f15c70c10a9c93442514d8c9d753fb0e60cd2949373cecbaffef9"
      }
    },
    "colab": {
      "provenance": []
    }
  },
  "nbformat": 4,
  "nbformat_minor": 0
}